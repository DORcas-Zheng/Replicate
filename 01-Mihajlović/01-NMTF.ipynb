{
 "cells": [
  {
   "cell_type": "markdown",
   "metadata": {},
   "source": [
    "# title: Multi‐omics integration  of scRNA‐seq time series data  predicts new intervention points  for Parkinson’s disease\n",
    "\n",
    "## Highlights\n",
    "- Introduced an NMTF-based integration method for combining scRNA-seq data with molecular interaction networks.\n",
    "\n",
    "- Derived condition- and time-specific gene embeddings reflecting early PD-related molecular changes.\n",
    "\n",
    "- Predicted 193 candidate PD genes, including 12 novel genes with drug target potential.\n",
    "\n",
    "- Identified 10 dysregulated KEGG pathways implicated in PINK1-associated early PD development.\n",
    "\n",
    "## Methods\n",
    "\n",
    "\n"
   ]
  }
 ],
 "metadata": {
  "language_info": {
   "name": "python"
  }
 },
 "nbformat": 4,
 "nbformat_minor": 2
}
